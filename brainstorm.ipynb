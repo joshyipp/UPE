{
 "cells": [
  {
   "cell_type": "code",
   "execution_count": 2,
   "metadata": {},
   "outputs": [],
   "source": [
    "import numpy as np\n",
    "import pandas as pd"
   ]
  },
  {
   "cell_type": "markdown",
   "metadata": {},
   "source": [
    "data visualization and data analysis with the datasets\n"
   ]
  },
  {
   "cell_type": "code",
   "execution_count": 21,
   "metadata": {},
   "outputs": [
    {
     "data": {
      "text/plain": [
       "4515     2012-07-12\n",
       "2474     2012-12-31\n",
       "2473     2013-12-31\n",
       "16915    2013-12-31\n",
       "2472     2014-12-31\n",
       "            ...    \n",
       "14447    2020-04-30\n",
       "13114    2020-04-30\n",
       "14579    2020-04-30\n",
       "16134    2020-04-30\n",
       "15386    2020-05-02\n",
       "Name: endDate, Length: 17511, dtype: object"
      ]
     },
     "execution_count": 21,
     "metadata": {},
     "output_type": "execute_result"
    }
   ],
   "source": [
    "df=pd.read_csv('temp/cashflowStatement_annually.csv')\n",
    "df[\"endDate\"].sort_values()\n",
    "\n",
    "#if tech company and no cash, then probably tech company doesn't carry cash"
   ]
  },
  {
   "cell_type": "code",
   "execution_count": 14,
   "metadata": {},
   "outputs": [
    {
     "name": "stdout",
     "output_type": "stream",
     "text": [
      "Index(['stock', 'endDate', 'capitalExpenditures', 'changeToNetincome',\n",
      "       'otherCashflowsFromFinancingActivities', 'changeToAccountReceivables',\n",
      "       'changeToInventory', 'dividendsPaid',\n",
      "       'otherCashflowsFromInvestingActivities', 'depreciation',\n",
      "       'totalCashFromOperatingActivities', 'effectOfExchangeRate',\n",
      "       'repurchaseOfStock', 'changeInCash', 'netIncome',\n",
      "       'changeToOperatingActivities', 'totalCashFromFinancingActivities',\n",
      "       'netBorrowings', 'totalCashflowsFromInvestingActivities',\n",
      "       'changeToLiabilities', 'issuanceOfStock', 'investments'],\n",
      "      dtype='object')\n",
      "(17511, 22)\n"
     ]
    }
   ],
   "source": [
    "print(df.columns)\n",
    "print(df.shape) #including duplicate columns"
   ]
  },
  {
   "cell_type": "code",
   "execution_count": 15,
   "metadata": {},
   "outputs": [
    {
     "data": {
      "text/plain": [
       "4422"
      ]
     },
     "execution_count": 15,
     "metadata": {},
     "output_type": "execute_result"
    }
   ],
   "source": [
    "df[\"stock\"].nunique() #unique stocks"
   ]
  },
  {
   "cell_type": "code",
   "execution_count": 20,
   "metadata": {},
   "outputs": [
    {
     "data": {
      "text/plain": [
       "66"
      ]
     },
     "execution_count": 20,
     "metadata": {},
     "output_type": "execute_result"
    }
   ],
   "source": [
    "nonNull_df=df.dropna()\n",
    "nonNull_df[\"stock\"].nunique()"
   ]
  }
 ],
 "metadata": {
  "kernelspec": {
   "display_name": "Python 3",
   "language": "python",
   "name": "python3"
  },
  "language_info": {
   "codemirror_mode": {
    "name": "ipython",
    "version": 3
   },
   "file_extension": ".py",
   "mimetype": "text/x-python",
   "name": "python",
   "nbconvert_exporter": "python",
   "pygments_lexer": "ipython3",
   "version": "3.11.5"
  }
 },
 "nbformat": 4,
 "nbformat_minor": 2
}
